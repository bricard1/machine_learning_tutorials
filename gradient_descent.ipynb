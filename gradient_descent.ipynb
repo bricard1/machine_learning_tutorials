{
 "cells": [
  {
   "cell_type": "markdown",
   "metadata": {},
   "source": [
    "# Introduction to Gradient Descent\n",
    "\n",
    "Prepared by: Benjamin Ricard, QBS108 TA | Last update: 11/26/2018\n",
    "\n",
    "### Learning Objectives\n",
    "\n",
    "By the end of this tutorial, students should be able to:\n",
    "\n",
    "* Understand the theory and mathematics behind Gradient Descent\n",
    "* Understand the variables involved in GD (e.g. step-size, iterations)\n",
    "\n",
    "\n",
    "### General Procedure\n",
    "\n",
    "* Simulate a linear data that is known to be better approximated by first-order regression models (From Chen: Demo 1)\n",
    "* Using GD, reach minimum error of prediction (MSE) for a linear regression.\n"
   ]
  },
  {
   "cell_type": "code",
   "execution_count": 654,
   "metadata": {},
   "outputs": [],
   "source": [
    "from sklearn.linear_model import LinearRegression\n",
    "from sklearn.metrics import mean_squared_error, mean_squared_log_error, mean_absolute_error, r2_score #other metrics can be used\n",
    "from sklearn.preprocessing import PolynomialFeatures\n",
    "from sklearn.pipeline import make_pipeline\n",
    "import numpy as np\n",
    "import copy as cp\n",
    "import matplotlib.pyplot as plt\n",
    "\n",
    "import warnings\n",
    "warnings.filterwarnings('ignore')\n",
    "\n",
    "def f(x, FUN=lambda x: 15+5*x):\n",
    "    '''\n",
    "    Helper function to approximate data by an input function\n",
    "    Parameters:\n",
    "        x: 1D array\n",
    "        FUN: Mathematical function of interest. Defaults to sin\n",
    "    '''\n",
    "    return FUN(x); \n",
    "\n",
    "def simulate_data(a, b, N, seed=42):\n",
    "    '''\n",
    "    Function to simulate non-linear data\n",
    "    Parameters:\n",
    "        a,b: Range/bounds\n",
    "        N: Number of examples (i.e. sample size)\n",
    "        seed: Random seed for shuffling\n",
    "    '''\n",
    "    rng = np.random.RandomState(seed); \n",
    "    x = np.linspace(a, b, N); \n",
    "    x_plot = cp.deepcopy(x);\n",
    "    x = np.linspace(a, b, N); \n",
    "    rng.shuffle(x);  \n",
    "    noise = np.random.normal(0, (a+b)/2, N);\n",
    "    return x, f(x)+noise, x_plot, f(x_plot)+noise;\n",
    "\n",
    "def reformat_to_matrix(x, x_plot):\n",
    "    '''\n",
    "    Helper function to convert data into matrix format\n",
    "    Parameters:\n",
    "        x, x_plot: Arrays\n",
    "    '''\n",
    "    X = x[:, np.newaxis]\n",
    "    X_plot = x_plot[:, np.newaxis];\n",
    "    return X, X_plot;"
   ]
  },
  {
   "cell_type": "markdown",
   "metadata": {},
   "source": [
    "### Simulated data"
   ]
  },
  {
   "cell_type": "code",
   "execution_count": 593,
   "metadata": {},
   "outputs": [],
   "source": [
    "a, b, N = 0, 100, 20;\n",
    "xval, yval, x_plot, y_plot = simulate_data(a, b, N);\n",
    "points=xval,yval"
   ]
  },
  {
   "cell_type": "markdown",
   "metadata": {},
   "source": [
    "### Construct models and visualize"
   ]
  },
  {
   "cell_type": "markdown",
   "metadata": {},
   "source": [
    "The first thing we need to do is define our error function. By definiton, the ideal model is the one with the least amount of error. We will use the mean-squared error (MSE) as our error function to minimize. This function takes the form:\n",
    "\n",
    "$$\n",
    "\\frac{1}{N} \\sum_i^N (y_i-\\hat{y_i})^2\n",
    "$$\n",
    "\n",
    "Where N is the number of samples, $y_i$ is the true value/label for sample i, $\\hat{y_i}$ is the predicted value for sample i. The error is squared to be robust to negative/positive errors. Intuitively, we can think of this as the average distance from the predicted value $\\hat{y}$ to the true value $y$. The ideal model would have the smallest error, so this becomes our function to minimize.\n",
    "\n",
    "For linear regression, our predicted probabilities take the form $\\hat{y_i} = mx_i+b$, so our error function becomes;\n",
    "\n",
    "$$\n",
    "\\frac{1}{N} \\sum_i^N (y_i-(b+mx_i))^2\n",
    "$$\n",
    "\n",
    "The code below calculates the error function."
   ]
  },
  {
   "cell_type": "code",
   "execution_count": 641,
   "metadata": {},
   "outputs": [],
   "source": [
    "#Code modified from Siraj Raval at https://github.com/llSourcell/linear_regression_live/blob/master/demo.py\n",
    "#You can train as many variables as you want (commented out) - Here we will use only 2, the intercept b and slope m\n",
    "\n",
    "from numpy import *\n",
    "\n",
    "# y = mx + b\n",
    "# m is slope, b is y-intercept\n",
    "#First computes MSE\n",
    "def compute_error_for_line_given_points(b, m,points):\n",
    "    totalError = 0\n",
    "    for i in range(0, len(points[0])):\n",
    "        x = points[0][i]\n",
    "        y = points[1][i]\n",
    "        totalError += (y - ((m * x) + b)) ** 2\n",
    "    return totalError / float(len(points[0]))"
   ]
  },
  {
   "cell_type": "markdown",
   "metadata": {},
   "source": [
    "In the simpliest case, we solve for 2 variables, b and m, that minimize the error function. To do this, we calculate the gradient w.r.t each of these varibles:\n",
    "\n",
    "\n",
    "\\begin{equation*}\n",
    "\\frac{\\partial}{\\partial b} \\frac{1}{N} \\sum_i^N (y_i-(b+mx_i))^2 = \\frac{-2}{N} \\sum_i^N (y_i-(b+mx_i))\n",
    "\\end{equation*}\n",
    "\n",
    "\n",
    "\\begin{equation*}\n",
    "\\frac{\\partial}{\\partial m} \\frac{1}{N} \\sum_i^N (y_i-(b+mx_i))^2 = \\frac{-2}{N} \\sum_i^N x_i(y_i-(b+mx_i))\n",
    "\\end{equation*}\n",
    "\n",
    "(Note: this is extendible to any number of x variables to be used for prediction - simply calculate the partial derivative for each variable).\n",
    "\n",
    "The idea of gradient descent is to make small steps towards the optimal variables using the gradient (derivative;direction) as a guide. Now that we have the gradient, we will make small steps in the direction that minimizes the error for each variable in our model.\n",
    "\n",
    "For each i in the number of iterations, we can make updates to our variables b and m by simply subtracting the gradient.\n",
    "\n",
    "For i in N iterations:\n",
    " $$b_{i+1} =b_i - \\frac{\\partial}{\\partial b_i} $$\n",
    " and;\n",
    "  $$ m_{i+1} =m_i - \\frac{\\partial}{\\partial m_i} $$\n",
    "  \n",
    "Recall again that the derivative provides the direction that improves the error, but not the magnitude. We will alter our updates by scaling the gradient subtraction by a step-size/learning rate alpha, that we can tune to train our model.\n",
    "\n",
    "For i in N iterations:\n",
    " $$ b_{i+1} =b_i - \\alpha \\frac{\\partial}{\\partial b_i} $$\n",
    " and;\n",
    "  $$ m_{i+1} =m_i - \\alpha \\frac{\\partial}{\\partial m_i} $$\n",
    " \n",
    "This portion is written below."
   ]
  },
  {
   "cell_type": "code",
   "execution_count": 647,
   "metadata": {},
   "outputs": [],
   "source": [
    "\n",
    "\n",
    "def step_gradient(b_current, m_current,points, learningRate):\n",
    "    b_gradient = 0\n",
    "    m_gradient = 0\n",
    "    N = float(len(points[0]))\n",
    "    for i in range(0, len(points[0])):\n",
    "        x = points[0][i]\n",
    "        y = points[1][i]\n",
    "        b_gradient += -(2/N) * (y - ((m_current * x) + b_current))\n",
    "        m_gradient += -(2/N) * x * (y - ((m_current * x) + b_current))\n",
    "#        m2_gradient += -(2/N) * x**3 * (y - ((m2_current * x**3) + b_current))\n",
    "#        m3_gradient += -(2/N) * x**4 * (y - ((m3_current * x**4) + b_current))\n",
    "#        m4_gradient += -(2|/N) * x**5 * (y - ((m4_current * x**5) + b_current))\n",
    "#        m5_gradient += -(2/N) * x**6 * (y - ((m5_current * x**6) + b_current))\n",
    "    new_b = b_current - (learningRate * b_gradient)\n",
    "    new_m = m_current - (learningRate * m_gradient)\n",
    "#    new_m2 = m2_current - (learningRate * m2_gradient)\n",
    "#    new_m3 = m3_current - (learningRate * m3_gradient)\n",
    "#    new_m4 = m4_current - (learningRate * m4_gradient)\n",
    "#    new_m5 = m5_current - (learningRate * m5_gradient)\n",
    "    return [new_b, new_m]"
   ]
  },
  {
   "cell_type": "markdown",
   "metadata": {},
   "source": [
    "Finally, we can loop over step_gradient to run our GD. As a rule, GD is very sensitive to learning rate and requires careful training. Too small a learning rate will not train in a feasible time, and too large a learning rate can cause erratic behavoir and divergence. "
   ]
  },
  {
   "cell_type": "code",
   "execution_count": 650,
   "metadata": {},
   "outputs": [],
   "source": [
    "\n",
    "def gradient_descent_runner(points, starting_b, starting_m, learning_rate, num_iterations):\n",
    "    b = starting_b\n",
    "    m = starting_m\n",
    "    for i in range(num_iterations):\n",
    "        err1=compute_error_for_line_given_points(b,m,points)\n",
    "        b, m = step_gradient(b, m, array(points), learning_rate)\n",
    "        err2=compute_error_for_line_given_points(b,m,points)\n",
    "        if err1<err2:\n",
    "            print(i)\n",
    "            break\n",
    "    return [b, m]\n",
    "\n",
    "def run(points,num_iterations):\n",
    "    learning_rate = .00001\n",
    "    initial_b = 0 # initial y-intercept guess\n",
    "    initial_m= 0 # initial slope guess\n",
    "    print(\"Starting gradient descent at b = {0}, m = {1}, error = {2}\".format(initial_b, initial_m, compute_error_for_line_given_points(initial_b, initial_m,points)))\n",
    "    print(\"Running...\")\n",
    "    [b, m] = gradient_descent_runner(points, initial_b, initial_m,learning_rate, num_iterations)\n",
    "    print(\"After {0} iterations b = {1}, m = {2}, error = {3}\".format(num_iterations, b, m, compute_error_for_line_given_points(b, m, points)))\n",
    "    return [b,m]\n"
   ]
  },
  {
   "cell_type": "markdown",
   "metadata": {},
   "source": [
    "First, just run 1 iteration to see initial behavior. Notice the initial and final errors."
   ]
  },
  {
   "cell_type": "code",
   "execution_count": 651,
   "metadata": {},
   "outputs": [
    {
     "name": "stdout",
     "output_type": "stream",
     "text": [
      "Starting gradient descent at b = 0, m = 0, error = 96473.36018715879\n",
      "Running...\n",
      "After 1 iterations b = 0.005148141334870933, m = 0.3577799528093703, error = 84108.16156001156\n"
     ]
    },
    {
     "data": {
      "image/png": "[encoded data removed]",
      "text/plain": [
       "<Figure size 432x288 with 1 Axes>"
      ]
     },
     "metadata": {
      "needs_background": "light"
     },
     "output_type": "display_data"
    }
   ],
   "source": [
    "b,m = run(points,1)\n",
    "plt.plot(xval, yval, '.')\n",
    "\n",
    "x_plot = np.linspace(0,max(xval),100)\n",
    "plt.plot(x_plot,((m * x_plot) + b), '-')\n",
    "plt.show()"
   ]
  },
  {
   "cell_type": "markdown",
   "metadata": {},
   "source": [
    "We see that after the first update we are still far away from the ideal b and m values. We'll try to run with 10 iterative updates now."
   ]
  },
  {
   "cell_type": "code",
   "execution_count": 652,
   "metadata": {},
   "outputs": [
    {
     "name": "stdout",
     "output_type": "stream",
     "text": [
      "Starting gradient descent at b = 0, m = 0, error = 96473.36018715879\n",
      "Running...\n",
      "After 10 iterations b = 0.03799105463899551, m = 2.6548462611973953, error = 25591.105155260226\n"
     ]
    },
    {
     "data": {
      "image/png": "[encoded data removed]",
      "text/plain": [
       "<Figure size 432x288 with 1 Axes>"
      ]
     },
     "metadata": {
      "needs_background": "light"
     },
     "output_type": "display_data"
    }
   ],
   "source": [
    "b,m = run(points,10)\n",
    "plt.plot(xval, yval, '.')\n",
    "\n",
    "x_plot = np.linspace(0,max(xval),100)\n",
    "plt.plot(x_plot,((m * x_plot) + b), '-')\n",
    "plt.show()"
   ]
  },
  {
   "cell_type": "markdown",
   "metadata": {},
   "source": [
    "Much better. We will now try to run for 100 updates."
   ]
  },
  {
   "cell_type": "code",
   "execution_count": 653,
   "metadata": {},
   "outputs": [
    {
     "name": "stdout",
     "output_type": "stream",
     "text": [
      "Starting gradient descent at b = 0, m = 0, error = 96473.36018715879\n",
      "Running...\n",
      "After 100 iterations b = 0.06821860384489266, m = 5.2237149651234205, error = 2930.771674941734\n"
     ]
    },
    {
     "data": {
      "image/png": "[encoded data removed]",
      "text/plain": [
       "<Figure size 432x288 with 1 Axes>"
      ]
     },
     "metadata": {
      "needs_background": "light"
     },
     "output_type": "display_data"
    }
   ],
   "source": [
    "\n",
    "b,m = run(points,100)\n",
    "plt.plot(xval, yval, '.')\n",
    "\n",
    "x_plot = np.linspace(0,max(xval),100)\n",
    "plt.plot(x_plot,((m * x_plot) + b), '-')\n",
    "plt.show()"
   ]
  },
  {
   "cell_type": "markdown",
   "metadata": {},
   "source": [
    "Success! Our gradient descent helped us find good choices of variables."
   ]
  },
  {
   "cell_type": "code",
   "execution_count": null,
   "metadata": {},
   "outputs": [],
   "source": []
  }
 ],
 "metadata": {
  "kernelspec": {
   "display_name": "Python 3",
   "language": "python",
   "name": "python3"
  },
  "language_info": {
   "codemirror_mode": {
    "name": "ipython",
    "version": 3
   },
   "file_extension": ".py",
   "mimetype": "text/x-python",
   "name": "python",
   "nbconvert_exporter": "python",
   "pygments_lexer": "ipython3",
   "version": "3.6.4"
  }
 },
 "nbformat": 4,
 "nbformat_minor": 2
}
