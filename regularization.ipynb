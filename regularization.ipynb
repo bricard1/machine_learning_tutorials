{
 "cells": [
  {
   "cell_type": "markdown",
   "metadata": {},
   "source": [
    "# Regularization and Cross-Validation\n",
    "\n",
    "Prepared by: Benjamin Ricard, QBS108 TA | Last update: 11/26/2018\n",
    "\n",
    "### Learning Objectives\n",
    "\n",
    "By the end of this tutorial, students should be able to:\n",
    "\n",
    "* Understand the theoretical and mathematical basis for regularization\n",
    "* Explain the concept and procedure for a standard training, validation, testing expriment.\n",
    "\n",
    "### General Procedure\n",
    "\n",
    "* Simulate a linear data that is known to be better approximated by first-order regression models (Chen, Demo 1)\n",
    "* Fit polynomial regression to data\n",
    "* Use regularization to improve overfitting of polynomial regression \n",
    "\n",
    "### Load modules and implement helper functions"
   ]
  },
  {
   "cell_type": "code",
   "execution_count": 56,
   "metadata": {},
   "outputs": [],
   "source": [
    "from sklearn.linear_model import LinearRegression\n",
    "from sklearn.metrics import mean_squared_error, mean_squared_log_error, mean_absolute_error, r2_score #other metrics can be used\n",
    "from sklearn.preprocessing import PolynomialFeatures\n",
    "from sklearn.pipeline import make_pipeline\n",
    "import numpy as np\n",
    "import copy as cp\n",
    "import matplotlib.pyplot as plt\n",
    "\n",
    "import warnings\n",
    "warnings.filterwarnings('ignore')\n",
    "\n",
    "def f(x, FUN=lambda x: 15+5*x):\n",
    "    '''\n",
    "    Helper function to approximate data by an input function\n",
    "    Parameters:\n",
    "        x: 1D array\n",
    "        FUN: Mathematical function of interest. Defaults to sin\n",
    "    '''\n",
    "    return FUN(x); \n",
    "\n",
    "def simulate_data(a, b, N, seed=42):\n",
    "    '''\n",
    "    Function to simulate non-linear data\n",
    "    Parameters:\n",
    "        a,b: Range/bounds\n",
    "        N: Number of examples (i.e. sample size)\n",
    "        seed: Random seed for shuffling\n",
    "    '''\n",
    "    rng = np.random.RandomState(seed); \n",
    "    x = np.linspace(a, b, N); \n",
    "    x_plot = cp.deepcopy(x);\n",
    "    x = np.linspace(a, b, N); \n",
    "    rng.shuffle(x);  \n",
    "    noise = np.random.normal(0, (a+b)/2, N);\n",
    "    return x, f(x)+noise, x_plot, f(x_plot)+noise;\n"
   ]
  },
  {
   "cell_type": "markdown",
   "metadata": {},
   "source": [
    "### Construct models and visualize\n",
    "\n",
    "We will create training, validation and tesitng sets generated from the same simulation (Demo 1), sample sizes 8,8, and 8. Here, our model will be a 9th order polynomial of the form:\n",
    "\n",
    "\n",
    "\\begin{equation*}\n",
    "y = b + m_1x + m_2 x^2 + ... + m_9 x^9\n",
    "\\end{equation*}"
   ]
  },
  {
   "cell_type": "code",
   "execution_count": 130,
   "metadata": {},
   "outputs": [],
   "source": [
    "from sklearn.linear_model import LinearRegression\n",
    "from sklearn.linear_model import Ridge\n",
    "a, b, N = 0, 1, 8;\n",
    "x, y, x_plot, y_plot = simulate_data(a, b, N,seed=11);\n",
    "train=[]\n",
    "for i in x:\n",
    "    train.append([i,i**2,i**3,i**4,i**5,i**6,i**7,i**8,i**9])\n",
    "trainy=y\n",
    "trainx=x\n",
    "x, y, x_plot, y_plot = simulate_data(a, b, N,seed=22);\n",
    "validation=[]\n",
    "for i in x:\n",
    "    validation.append([i,i**2,i**3,i**4,i**5,i**6,i**7,i**8,i**9])\n",
    "valy=y\n",
    "valx=x\n",
    "x, y, x_plot, y_plot = simulate_data(a, b, N,seed=33);\n",
    "test=[]\n",
    "for i in x:\n",
    "    test.append([i,i**2,i**3,i**4,i**5,i**6,i**7,i**8,i**9])\n",
    "testy=y\n",
    "testx=x"
   ]
  },
  {
   "cell_type": "markdown",
   "metadata": {},
   "source": [
    "### Construct models and visualize\n",
    "Similar to Demo 2, we can solve a minimization of the form:\n",
    "\n",
    "\\begin{equation*}\n",
    "\\frac{1}{N} \\sum_i^N (y_i-\\hat{y_i})^2\n",
    "\\end{equation*}\n",
    "\n",
    "where;\n",
    "\n",
    "\n",
    "\\begin{equation*}\n",
    "\\hat{y} = b + m_1x + m_2 x^2 + ... + m_9 x^9\n",
    "\\end{equation*}\n",
    "\n",
    "We can use gradient descent to solve this, but sklearn works fine for this. However, because there are more features than samples for our model, we will overfit. Using sklearn's LinearRegression function, we see this is the case. \n",
    "\n"
   ]
  },
  {
   "cell_type": "code",
   "execution_count": 140,
   "metadata": {},
   "outputs": [],
   "source": [
    "reg = LinearRegression().fit(train, trainy)"
   ]
  },
  {
   "cell_type": "code",
   "execution_count": 144,
   "metadata": {},
   "outputs": [
    {
     "data": {
      "image/png": "[encoded data removed]",
      "text/plain": [
       "<Figure size 432x288 with 1 Axes>"
      ]
     },
     "metadata": {
      "needs_background": "light"
     },
     "output_type": "display_data"
    },
    {
     "name": "stdout",
     "output_type": "stream",
     "text": [
      "Training accuracy: 1.0\n",
      "Coefficients\n",
      "b: 15.5\n",
      "x^0: -28.532\n",
      "x^1: 341.233\n",
      "x^2: -1240.339\n",
      "x^3: 1767.404\n",
      "x^4: -282.793\n",
      "x^5: -1289.065\n",
      "x^6: 101.095\n",
      "x^7: 1269.474\n",
      "x^8: -634.461\n"
     ]
    }
   ],
   "source": [
    "plt.plot(trainx, trainy, 'o')\n",
    "x_plot = np.linspace(0,1,100)\n",
    "plt.plot(x_plot,reg.intercept_+(reg.coef_[0]*x_plot)+(reg.coef_[1]*x_plot**2)+(reg.coef_[2]*x_plot**3)+(reg.coef_[3]*x_plot**4)+(reg.coef_[4]*x_plot**5)+(reg.coef_[5]*x_plot**6)+(reg.coef_[6]*x_plot**7)+(reg.coef_[7]*x_plot**8)+(reg.coef_[8]*x_plot**9))\n",
    "plt.show()\n",
    "print(\"Training accuracy: \"+str(np.round(reg.score(train,trainy),3)))\n",
    "print(\"Coefficients\")\n",
    "count=-1\n",
    "print(\"b: \"+str(np.round(reg.intercept_,1)))\n",
    "for i in reg.coef_:\n",
    "    count=count+1\n",
    "    print (\"x^\"+str(count)+\": \"+str(np.round(i,3)))"
   ]
  },
  {
   "cell_type": "markdown",
   "metadata": {},
   "source": [
    "Notice the perfect fit and 100% accuracy. The more variables we have, the more we overfit. In order to solve this without removing potentially useful features, we can implement regularization. Instead of minimizing the error function as before, we can add a regularization term.\n",
    "\n",
    "Recall:\n",
    "\n",
    "\\begin{equation*}\n",
    "\\hat{y} = b + m_1x + m_2 x^2 + ... + m_9 x^9\n",
    "\\end{equation*}\n",
    "\n",
    "For L2-regularized regression (there are others), this makes the new error function:\n",
    "\n",
    "\\begin{equation*}\n",
    "\\frac{1}{2N} \\sum_i^N (y_i-(b + m_1x + m_2 x^2 + ... + m_9 x^9))^2 +\\frac{\\lambda}{2N}\\sum_i^N m^2\n",
    "\\end{equation*}\n",
    "\n",
    "Where $\\lambda$ is a regularization hyperparameter to be tuned. Coeffecients that are large, as in the previous example, indicate overfitting. Conceptually, we are adding a term that penalizes the weights $m$ that are large. Statistically, we are solving the same equation as before for the MSE but subject to the constraint of $\\sum m^2 \\lt s$ where s is a radius of volume defined as a function of lambda. Other common model of regularization is the Least Absolute Shrinkage and Selection (LASSO), which is constrained by $\\sum |m|$. \n",
    "\n",
    "We will try 2 different values of $\\lambda$ to see how regularization effects the models, $\\lambda= 1$ and $\\lambda = 0.05$."
   ]
  },
  {
   "cell_type": "code",
   "execution_count": 147,
   "metadata": {},
   "outputs": [
    {
     "name": "stdout",
     "output_type": "stream",
     "text": [
      "Regularization: 1\n"
     ]
    },
    {
     "data": {
      "image/png": "[encoded data removed]",
      "text/plain": [
       "<Figure size 432x288 with 1 Axes>"
      ]
     },
     "metadata": {
      "needs_background": "light"
     },
     "output_type": "display_data"
    },
    {
     "name": "stdout",
     "output_type": "stream",
     "text": [
      "Training accuracy: 0.808\n",
      "Coefficients: \n",
      "b: 16.4\n",
      "x^0: 0.948\n",
      "x^1: 0.665\n",
      "x^2: 0.452\n",
      "x^3: 0.315\n",
      "x^4: 0.229\n",
      "x^5: 0.172\n",
      "x^6: 0.135\n",
      "x^7: 0.109\n",
      "x^8: 0.092\n"
     ]
    }
   ],
   "source": [
    "print(\"Regularization: 1\") \n",
    "clf1 = Ridge(alpha=1)\n",
    "clf1.fit(train,trainy)\n",
    "plt.plot(x, y, 'o')\n",
    "x_plot = np.linspace(0,1,100)\n",
    "plt.plot(x_plot,clf1.intercept_+(clf1.coef_[0]*x_plot)+(clf1.coef_[1]*x_plot**2)+(clf1.coef_[2]*x_plot**3)+(clf1.coef_[3]*x_plot**4)+(clf1.coef_[4]*x_plot**5)+(clf1.coef_[5]*x_plot**6)+(clf1.coef_[6]*x_plot**7)+(clf1.coef_[7]*x_plot**8)+(clf1.coef_[8]*x_plot**9))\n",
    "plt.show()\n",
    "print(\"Training accuracy: \"+str(np.round(clf1.score(train,trainy),3)))\n",
    "print(\"Coefficients: \")\n",
    "count=-1\n",
    "print(\"b: \"+str(np.round(clf1.intercept_,1)))\n",
    "for i in clf1.coef_:\n",
    "    count=count+1\n",
    "    print (\"x^\"+str(count)+\": \"+str(np.round(i,3)))"
   ]
  },
  {
   "cell_type": "code",
   "execution_count": 148,
   "metadata": {},
   "outputs": [
    {
     "name": "stdout",
     "output_type": "stream",
     "text": [
      "Regularization: 0.05\n"
     ]
    },
    {
     "data": {
      "image/png": "[encoded data removed]",
      "text/plain": [
       "<Figure size 432x288 with 1 Axes>"
      ]
     },
     "metadata": {
      "needs_background": "light"
     },
     "output_type": "display_data"
    },
    {
     "name": "stdout",
     "output_type": "stream",
     "text": [
      "Training accuracy: 0.951\n",
      "Coefficients: \n",
      "b: 15.6\n",
      "b: 15.6\n",
      "x^0: 2.979\n",
      "x^1: 1.107\n",
      "x^2: 0.091\n",
      "x^3: -0.278\n",
      "x^4: -0.321\n",
      "x^5: -0.214\n",
      "x^6: -0.042\n",
      "x^7: 0.152\n",
      "x^8: 0.347\n"
     ]
    }
   ],
   "source": [
    "print(\"Regularization: 0.05\") \n",
    "clf05 = Ridge(alpha=.05)\n",
    "clf05.fit(train,trainy)\n",
    "plt.plot(x, y, 'o')\n",
    "x_plot = np.linspace(0,1,100)\n",
    "plt.plot(x_plot,clf05.intercept_+(clf05.coef_[0]*x_plot)+(clf05.coef_[1]*x_plot**2)+(clf05.coef_[2]*x_plot**3)+(clf05.coef_[3]*x_plot**4)+(clf05.coef_[4]*x_plot**5)+(clf05.coef_[5]*x_plot**6)+(clf05.coef_[6]*x_plot**7)+(clf05.coef_[7]*x_plot**8)+(clf05.coef_[8]*x_plot**9))\n",
    "plt.show()\n",
    "print(\"Training accuracy: \"+str(np.round(clf05.score(train,trainy),3)))\n",
    "print(\"Coefficients: \")\n",
    "print(\"b: \"+str(np.round(clf05.intercept_,1)))\n",
    "count=-1\n",
    "print(\"b: \"+str(np.round(clf05.intercept_,1)))\n",
    "for i in clf05.coef_:\n",
    "    count=count+1\n",
    "    print (\"x^\"+str(count)+\": \"+str(np.round(i,3)))"
   ]
  },
  {
   "cell_type": "markdown",
   "metadata": {},
   "source": [
    "We can see that all of the coefficients have shrunk. Although our training accuracy is not as high, intuitively, it seems like our model is doing better than before. Statistically, the estimator has less variance (though still may be biased!)\n",
    "\n",
    "Now the question becomes how to choose the best model. To do this, we use the validation data set we generated before. When training a model, you should **never** evaluate a model on the same data you trained the model on (this will lead to overfitting!) Instead, you should split your data into 3 parts: training, validation, and testing. The validation set will provide a way to compare different models on the same (unseen) data set.\n",
    "\n",
    "Even though training accuracy is perfect for the non-regularized model, the results on the validation set indicate that the regularization with 0.05 works best."
   ]
  },
  {
   "cell_type": "code",
   "execution_count": 155,
   "metadata": {},
   "outputs": [
    {
     "name": "stdout",
     "output_type": "stream",
     "text": [
      "Regularization, Training Accuracy\n",
      "None:  1.0\n",
      "0.05:  0.951\n",
      "1.00:  0.808\n"
     ]
    }
   ],
   "source": [
    "print(\"Regularization, Training Accuracy\")\n",
    "print(\"None: \",np.round(reg.score(train,trainy),3))\n",
    "print(\"0.05: \", np.round(clf05.score(train,trainy),3))\n",
    "print(\"1.00: \", np.round(clf1.score(train,trainy),3))\n"
   ]
  },
  {
   "cell_type": "code",
   "execution_count": 156,
   "metadata": {},
   "outputs": [
    {
     "name": "stdout",
     "output_type": "stream",
     "text": [
      "Regularization, Validation Accuracy\n",
      "None:  0.762\n",
      "0.05:  0.768\n",
      "1.00:  0.603\n"
     ]
    }
   ],
   "source": [
    "print(\"Regularization, Validation Accuracy\")\n",
    "print(\"None: \",np.round(reg.score(validation,valy),3))\n",
    "print(\"0.05: \",np.round(clf05.score(validation,valy),3))\n",
    "print(\"1.00: \",np.round(clf1.score(validation,valy),3))\n"
   ]
  },
  {
   "cell_type": "markdown",
   "metadata": {},
   "source": [
    "So, we believe the model trained on $\\lambda=0.05$ as the best. Let's see if we were right."
   ]
  },
  {
   "cell_type": "code",
   "execution_count": 154,
   "metadata": {},
   "outputs": [
    {
     "name": "stdout",
     "output_type": "stream",
     "text": [
      "Regularization, Testing Accuracy\n",
      "None:  0.857\n",
      "0.05:  0.921\n",
      "0.05:  0.799\n"
     ]
    }
   ],
   "source": [
    "print(\"Regularization, Testing Accuracy\")\n",
    "print(\"None: \",np.round(reg.score(test, testy),3))\n",
    "print(\"0.05: \",np.round(clf05.score(test,testy),3))\n",
    "print(\"0.05: \",np.round(clf1.score(test,testy),3))"
   ]
  },
  {
   "cell_type": "markdown",
   "metadata": {},
   "source": [
    "Success! Regularization helped us prevent overfitting, without getting rid of variables."
   ]
  },
  {
   "cell_type": "code",
   "execution_count": null,
   "metadata": {},
   "outputs": [],
   "source": []
  }
 ],
 "metadata": {
  "kernelspec": {
   "display_name": "Python 3",
   "language": "python",
   "name": "python3"
  },
  "language_info": {
   "codemirror_mode": {
    "name": "ipython",
    "version": 3
   },
   "file_extension": ".py",
   "mimetype": "text/x-python",
   "name": "python",
   "nbconvert_exporter": "python",
   "pygments_lexer": "ipython3",
   "version": "3.6.4"
  }
 },
 "nbformat": 4,
 "nbformat_minor": 2
}
